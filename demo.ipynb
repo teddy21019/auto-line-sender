{
 "cells": [
  {
   "cell_type": "code",
   "execution_count": 1,
   "metadata": {},
   "outputs": [],
   "source": [
    "%load_ext autoreload\n",
    "%autoreload 2"
   ]
  },
  {
   "cell_type": "code",
   "execution_count": 6,
   "metadata": {},
   "outputs": [],
   "source": [
    "from autosender.Clicker import ClickerFactory\n",
    "from autosender.coordination import coordinate_info\n",
    "from autosender.Seller import Seller\n",
    "\n",
    "factory = ClickerFactory(coordinate_info=coordinate_info)"
   ]
  },
  {
   "cell_type": "code",
   "execution_count": 3,
   "metadata": {},
   "outputs": [
    {
     "name": "stdout",
     "output_type": "stream",
     "text": [
      "Test clicker created\n",
      "Search box is set at (100, 400)\n",
      "Type box is set at (500, 900)\n",
      "Send button is set at (1200, 900)\n"
     ]
    }
   ],
   "source": [
    "test_clicker = factory.create_clicker('test')\n",
    "# line_clicker = factory.create_clicker('line')"
   ]
  },
  {
   "cell_type": "code",
   "execution_count": 5,
   "metadata": {},
   "outputs": [
    {
     "name": "stdout",
     "output_type": "stream",
     "text": [
      "Click the search box at (100, 400)\n",
      "Type in '蝦皮 X 台大'\n",
      "Click the first result\n",
      "Click the typing area at (500, 900)\n",
      "Type: @\n",
      "press enter\n",
      "Type 請填資料： www.google.com\n",
      "Click send button at (1200, 900)\n"
     ]
    }
   ],
   "source": [
    "test_clicker.search(\"蝦皮 X 台大\")\n",
    "test_clicker.type(\"請填資料： www.google.com\")\n",
    "test_clicker.send()"
   ]
  },
  {
   "cell_type": "code",
   "execution_count": 9,
   "metadata": {},
   "outputs": [],
   "source": [
    "seller_1 = Seller(\n",
    "    '35246242',\n",
    "    '蝦皮 X 台大',\n",
    "    \"www.ntu.edu.tw\",\n",
    "    test_clicker        # dependency injection\n",
    ")\n",
    "\n",
    "seller_2 = Seller(\n",
    "    '352872342',\n",
    "    '蝦皮 X 爛公司',\n",
    "    \"www.shit.tw\",\n",
    "    test_clicker        # dependency injection\n",
    ")\n",
    "\n",
    "sellers = [seller_1, seller_2]"
   ]
  },
  {
   "cell_type": "code",
   "execution_count": 10,
   "metadata": {},
   "outputs": [
    {
     "name": "stdout",
     "output_type": "stream",
     "text": [
      "Click the search box at (100, 400)\n",
      "Type in '蝦皮 X 台大'\n",
      "Click the first result\n",
      "Click the typing area at (500, 900)\n",
      "Type: @\n",
      "press enter\n",
      "Type 親愛的賣家您好，以下是連結：www.ntu.edu.tw 。請協助填寫，謝謝！\n",
      "Click send button at (1200, 900)\n",
      "==============================\n",
      "Click the search box at (100, 400)\n",
      "Type in '蝦皮 X 爛公司'\n",
      "Click the first result\n",
      "Click the typing area at (500, 900)\n",
      "Type: @\n",
      "press enter\n",
      "Type 親愛的賣家您好，以下是連結：www.shit.tw 。請協助填寫，謝謝！\n",
      "Click send button at (1200, 900)\n",
      "==============================\n"
     ]
    }
   ],
   "source": [
    "for seller in sellers:\n",
    "    seller.act()\n",
    "    print(\"=\"*30)"
   ]
  },
  {
   "cell_type": "code",
   "execution_count": null,
   "metadata": {},
   "outputs": [],
   "source": []
  }
 ],
 "metadata": {
  "kernelspec": {
   "display_name": "Python 3",
   "language": "python",
   "name": "python3"
  },
  "language_info": {
   "codemirror_mode": {
    "name": "ipython",
    "version": 3
   },
   "file_extension": ".py",
   "mimetype": "text/x-python",
   "name": "python",
   "nbconvert_exporter": "python",
   "pygments_lexer": "ipython3",
   "version": "3.11.1"
  },
  "orig_nbformat": 4
 },
 "nbformat": 4,
 "nbformat_minor": 2
}
