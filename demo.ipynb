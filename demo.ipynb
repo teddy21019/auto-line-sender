{
 "cells": [
  {
   "cell_type": "code",
   "execution_count": 1,
   "metadata": {},
   "outputs": [],
   "source": [
    "%load_ext autoreload\n",
    "%autoreload 2"
   ]
  },
  {
   "cell_type": "code",
   "execution_count": 2,
   "metadata": {},
   "outputs": [],
   "source": [
    "from autosender.Clicker import ClickerFactory, type_in, wait_for_start\n",
    "from autosender.coordination import coordinate_info\n",
    "from autosender.Seller import Seller\n",
    "\n",
    "factory = ClickerFactory(coordinate_info=coordinate_info)"
   ]
  },
  {
   "cell_type": "code",
   "execution_count": 3,
   "metadata": {},
   "outputs": [
    {
     "name": "stdout",
     "output_type": "stream",
     "text": [
      "Test clicker created\n",
      "Search box is set at (100, 400)\n",
      "Type box is set at (500, 900)\n",
      "Send button is set at (1200, 900)\n"
     ]
    }
   ],
   "source": [
    "test_clicker = factory.create_clicker('test')\n",
    "line_clicker = factory.create_clicker('line')"
   ]
  },
  {
   "cell_type": "code",
   "execution_count": 4,
   "metadata": {},
   "outputs": [
    {
     "ename": "FailSafeException",
     "evalue": "PyAutoGUI fail-safe triggered from mouse moving to a corner of the screen. To disable this fail-safe, set pyautogui.FAILSAFE to False. DISABLING FAIL-SAFE IS NOT RECOMMENDED.",
     "output_type": "error",
     "traceback": [
      "\u001b[1;31m---------------------------------------------------------------------------\u001b[0m",
      "\u001b[1;31mFailSafeException\u001b[0m                         Traceback (most recent call last)",
      "Cell \u001b[1;32mIn[4], line 1\u001b[0m\n\u001b[1;32m----> 1\u001b[0m line_clicker\u001b[39m.\u001b[39;49mcheck()\n",
      "File \u001b[1;32mc:\\Users\\peipeipig\\OneDrive\\桌面\\Python\\auto-line-sender\\autosender\\Clicker.py:85\u001b[0m, in \u001b[0;36mLineClicker.check\u001b[1;34m(self)\u001b[0m\n\u001b[0;32m     83\u001b[0m \u001b[39mfor\u001b[39;00m position \u001b[39min\u001b[39;00m series_of_positions:\n\u001b[0;32m     84\u001b[0m     pt\u001b[39m.\u001b[39mmoveTo(\u001b[39m*\u001b[39mposition)\n\u001b[1;32m---> 85\u001b[0m     pt\u001b[39m.\u001b[39;49mpress(\u001b[39m\"\u001b[39;49m\u001b[39mctrl\u001b[39;49m\u001b[39m\"\u001b[39;49m)\n\u001b[0;32m     86\u001b[0m     sleep(\u001b[39m1\u001b[39m)    \n\u001b[0;32m     87\u001b[0m \u001b[39mreturn\u001b[39;00m\n",
      "File \u001b[1;32mc:\\Users\\peipeipig\\.conda\\envs\\autoclick\\Lib\\site-packages\\pyautogui\\__init__.py:593\u001b[0m, in \u001b[0;36m_genericPyAutoGUIChecks.<locals>.wrapper\u001b[1;34m(*args, **kwargs)\u001b[0m\n\u001b[0;32m    591\u001b[0m \u001b[39m@functools\u001b[39m\u001b[39m.\u001b[39mwraps(wrappedFunction)\n\u001b[0;32m    592\u001b[0m \u001b[39mdef\u001b[39;00m \u001b[39mwrapper\u001b[39m(\u001b[39m*\u001b[39margs, \u001b[39m*\u001b[39m\u001b[39m*\u001b[39mkwargs):\n\u001b[1;32m--> 593\u001b[0m     failSafeCheck()\n\u001b[0;32m    594\u001b[0m     returnVal \u001b[39m=\u001b[39m wrappedFunction(\u001b[39m*\u001b[39margs, \u001b[39m*\u001b[39m\u001b[39m*\u001b[39mkwargs)\n\u001b[0;32m    595\u001b[0m     _handlePause(kwargs\u001b[39m.\u001b[39mget(\u001b[39m\"\u001b[39m\u001b[39m_pause\u001b[39m\u001b[39m\"\u001b[39m, \u001b[39mTrue\u001b[39;00m))\n",
      "File \u001b[1;32mc:\\Users\\peipeipig\\.conda\\envs\\autoclick\\Lib\\site-packages\\pyautogui\\__init__.py:1734\u001b[0m, in \u001b[0;36mfailSafeCheck\u001b[1;34m()\u001b[0m\n\u001b[0;32m   1732\u001b[0m \u001b[39mdef\u001b[39;00m \u001b[39mfailSafeCheck\u001b[39m():\n\u001b[0;32m   1733\u001b[0m     \u001b[39mif\u001b[39;00m FAILSAFE \u001b[39mand\u001b[39;00m \u001b[39mtuple\u001b[39m(position()) \u001b[39min\u001b[39;00m FAILSAFE_POINTS:\n\u001b[1;32m-> 1734\u001b[0m         \u001b[39mraise\u001b[39;00m FailSafeException(\n\u001b[0;32m   1735\u001b[0m             \u001b[39m\"\u001b[39m\u001b[39mPyAutoGUI fail-safe triggered from mouse moving to a corner of the screen. To disable this fail-safe, set pyautogui.FAILSAFE to False. DISABLING FAIL-SAFE IS NOT RECOMMENDED.\u001b[39m\u001b[39m\"\u001b[39m\n\u001b[0;32m   1736\u001b[0m         )\n",
      "\u001b[1;31mFailSafeException\u001b[0m: PyAutoGUI fail-safe triggered from mouse moving to a corner of the screen. To disable this fail-safe, set pyautogui.FAILSAFE to False. DISABLING FAIL-SAFE IS NOT RECOMMENDED."
     ]
    }
   ],
   "source": [
    "line_clicker.check()"
   ]
  },
  {
   "cell_type": "code",
   "execution_count": null,
   "metadata": {},
   "outputs": [],
   "source": [
    "from time import sleep\n",
    "clicker = line_clicker\n",
    "# clicker = test_clicker\n"
   ]
  },
  {
   "cell_type": "code",
   "execution_count": null,
   "metadata": {},
   "outputs": [],
   "source": [
    "wait_for_start()\n",
    "type_in(\"蝦皮賣家\")"
   ]
  },
  {
   "cell_type": "code",
   "execution_count": null,
   "metadata": {},
   "outputs": [],
   "source": [
    "wait_for_start()\n",
    "clicker.search(\"陳家威\")\n",
    "clicker.type(\"討厭鬼棒棒\")\n",
    "clicker.send()"
   ]
  },
  {
   "cell_type": "code",
   "execution_count": null,
   "metadata": {},
   "outputs": [],
   "source": [
    "seller_1 = Seller(\n",
    "    '35246242',\n",
    "    '蝦皮 X 台大',\n",
    "    \"www.ntu.edu.tw\",\n",
    "    test_clicker        # dependency injection\n",
    ")\n",
    "\n",
    "seller_2 = Seller(\n",
    "    '352872342',\n",
    "    '蝦皮 X 爛公司',\n",
    "    \"www.shit.tw\",\n",
    "    test_clicker        # dependency injection\n",
    ")\n",
    "\n",
    "sellers = [seller_1, seller_2]"
   ]
  },
  {
   "cell_type": "code",
   "execution_count": null,
   "metadata": {},
   "outputs": [],
   "source": [
    "line_users = df[df['type'] == 'line']\n",
    "line_sellers:list[Seller] = to_sellers(line_users, line_clicker)\n",
    "\n",
    "wait_for_start()\n",
    "for seller in line_sellers:\n",
    "    seller.act()"
   ]
  },
  {
   "cell_type": "code",
   "execution_count": null,
   "metadata": {},
   "outputs": [
    {
     "name": "stdout",
     "output_type": "stream",
     "text": [
      "Click the search box at (100, 400)\n",
      "Type in '蝦皮 X 台大'\n",
      "Click the first result\n",
      "Click the typing area at (500, 900)\n",
      "Type: @\n",
      "press enter\n",
      "Type 親愛的賣家您好，以下是連結：www.ntu.edu.tw 。請協助填寫，謝謝！\n",
      "Click send button at (1200, 900)\n",
      "==============================\n",
      "Click the search box at (100, 400)\n",
      "Type in '蝦皮 X 爛公司'\n",
      "Click the first result\n",
      "Click the typing area at (500, 900)\n",
      "Type: @\n",
      "press enter\n",
      "Type 親愛的賣家您好，以下是連結：www.shit.tw 。請協助填寫，謝謝！\n",
      "Click send button at (1200, 900)\n",
      "==============================\n"
     ]
    }
   ],
   "source": [
    "for seller in sellers:\n",
    "    seller.act()\n",
    "    print(\"=\"*30)"
   ]
  },
  {
   "cell_type": "code",
   "execution_count": null,
   "metadata": {},
   "outputs": [],
   "source": [
    "search_box_pos = (1,1)"
   ]
  },
  {
   "cell_type": "code",
   "execution_count": null,
   "metadata": {},
   "outputs": [
    {
     "data": {
      "text/plain": [
       "1"
      ]
     },
     "execution_count": 9,
     "metadata": {},
     "output_type": "execute_result"
    }
   ],
   "source": [
    "search_box_pos[0]"
   ]
  },
  {
   "cell_type": "code",
   "execution_count": null,
   "metadata": {},
   "outputs": [],
   "source": [
    "def www(f, s):\n",
    "    print(f, s)"
   ]
  },
  {
   "cell_type": "code",
   "execution_count": null,
   "metadata": {},
   "outputs": [
    {
     "name": "stdout",
     "output_type": "stream",
     "text": [
      "1 1\n"
     ]
    }
   ],
   "source": [
    "www(*search_box_pos)"
   ]
  },
  {
   "cell_type": "code",
   "execution_count": null,
   "metadata": {},
   "outputs": [],
   "source": []
  }
 ],
 "metadata": {
  "kernelspec": {
   "display_name": "Python 3",
   "language": "python",
   "name": "python3"
  },
  "language_info": {
   "codemirror_mode": {
    "name": "ipython",
    "version": 3
   },
   "file_extension": ".py",
   "mimetype": "text/x-python",
   "name": "python",
   "nbconvert_exporter": "python",
   "pygments_lexer": "ipython3",
   "version": "3.11.4"
  },
  "orig_nbformat": 4
 },
 "nbformat": 4,
 "nbformat_minor": 2
}
