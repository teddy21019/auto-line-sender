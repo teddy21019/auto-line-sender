{
 "cells": [
  {
   "cell_type": "code",
   "execution_count": 1,
   "metadata": {},
   "outputs": [],
   "source": [
    "%load_ext autoreload\n",
    "%autoreload 2"
   ]
  },
  {
   "cell_type": "code",
   "execution_count": 2,
   "metadata": {},
   "outputs": [],
   "source": [
    "import autosender.Clicker as ck\n",
    "from autosender.Clicker import wait_for_start, type_in\n",
    "import autosender.coordination\n",
    "from autosender.Seller import Seller, df_to_sellers\n",
    "import pandas as pd\n"
   ]
  },
  {
   "cell_type": "code",
   "execution_count": 3,
   "metadata": {},
   "outputs": [
    {
     "name": "stdout",
     "output_type": "stream",
     "text": [
      "Test clicker created\n",
      "Search box is set at (100, 400)\n",
      "Type box is set at (500, 900)\n",
      "Send button is set at (1200, 900)\n"
     ]
    }
   ],
   "source": [
    "test_clicker = ck.TestClicker().calibrate(autosender.coordination.test_coordinate)\n",
    "line_clicker = ck.LineClicker().calibrate(autosender.coordination.line_coordinate)\n",
    "skype_clicker = ck.SkypeClicker().calibrate(autosender.coordination.skype_coordinate)\n"
   ]
  },
  {
   "cell_type": "code",
   "execution_count": 5,
   "metadata": {},
   "outputs": [],
   "source": [
    "wait_for_start()\n",
    "skype_clicker.check()"
   ]
  },
  {
   "cell_type": "code",
   "execution_count": 6,
   "metadata": {},
   "outputs": [],
   "source": [
    "clicker = line_clicker\n",
    "# clicker = test_clicker\n"
   ]
  },
  {
   "cell_type": "code",
   "execution_count": 9,
   "metadata": {},
   "outputs": [],
   "source": [
    "wait_for_start()\n",
    "\n",
    "clicker.search(\"康是美 X 蝦皮台灣跨境\")\n",
    "clicker.type(\"討厭鬼～\")\n",
    "clicker.send()"
   ]
  },
  {
   "cell_type": "code",
   "execution_count": null,
   "metadata": {},
   "outputs": [],
   "source": [
    "seller_1 = Seller(\n",
    "    '35246242',\n",
    "    '蝦皮 X 台大',\n",
    "    \"www.ntu.edu.tw\",\n",
    "    test_clicker        # dependency injection\n",
    ")\n",
    "\n",
    "seller_2 = Seller(\n",
    "    '352872342',\n",
    "    '蝦皮 X 爛公司',\n",
    "    \"www.shit.tw\",\n",
    "    test_clicker        # dependency injection\n",
    ")\n",
    "\n",
    "sellers = [seller_1, seller_2]"
   ]
  },
  {
   "cell_type": "code",
   "execution_count": 4,
   "metadata": {},
   "outputs": [
    {
     "data": {
      "text/html": [
       "<div>\n",
       "<style scoped>\n",
       "    .dataframe tbody tr th:only-of-type {\n",
       "        vertical-align: middle;\n",
       "    }\n",
       "\n",
       "    .dataframe tbody tr th {\n",
       "        vertical-align: top;\n",
       "    }\n",
       "\n",
       "    .dataframe thead th {\n",
       "        text-align: right;\n",
       "    }\n",
       "</style>\n",
       "<table border=\"1\" class=\"dataframe\">\n",
       "  <thead>\n",
       "    <tr style=\"text-align: right;\">\n",
       "      <th></th>\n",
       "      <th>shopid</th>\n",
       "      <th>userid</th>\n",
       "      <th>mst seller type</th>\n",
       "      <th>affi cat</th>\n",
       "      <th>username</th>\n",
       "      <th>shop_name</th>\n",
       "      <th>shoplink</th>\n",
       "      <th>sg user</th>\n",
       "      <th>my user</th>\n",
       "      <th>SG link</th>\n",
       "      <th>MY link</th>\n",
       "      <th>SG Shop ID</th>\n",
       "      <th>MY Shop ID</th>\n",
       "      <th>提品表名稱</th>\n",
       "      <th>提品表連結</th>\n",
       "      <th>new_sheet</th>\n",
       "      <th>via</th>\n",
       "      <th>group_name</th>\n",
       "      <th>八月OSP完成</th>\n",
       "      <th>八月OSP notes</th>\n",
       "    </tr>\n",
       "  </thead>\n",
       "  <tbody>\n",
       "    <tr>\n",
       "      <th>0</th>\n",
       "      <td>11527054</td>\n",
       "      <td>11528355</td>\n",
       "      <td>Mall</td>\n",
       "      <td>Beauty</td>\n",
       "      <td>s3beauty</td>\n",
       "      <td>小三美日</td>\n",
       "      <td>https://shopee.tw/s3beauty</td>\n",
       "      <td>s3beauty.sg</td>\n",
       "      <td>s3beauty.os</td>\n",
       "      <td>https://shopee.sg/s3beauty.sg</td>\n",
       "      <td>https://shopee.com.my/s3beauty.os</td>\n",
       "      <td>117069243</td>\n",
       "      <td>115506654</td>\n",
       "      <td>s3beauty-小三美日 x 蝦皮台灣跨境</td>\n",
       "      <td>https://docs.google.com/spreadsheets/d/1Szrba4...</td>\n",
       "      <td>https://docs.google.com/spreadsheets/d/1kbHZAG...</td>\n",
       "      <td>SK</td>\n",
       "      <td>小三美日 X 蝦皮台灣跨境</td>\n",
       "      <td>False</td>\n",
       "      <td>NaN</td>\n",
       "    </tr>\n",
       "    <tr>\n",
       "      <th>1</th>\n",
       "      <td>33206500</td>\n",
       "      <td>33207884</td>\n",
       "      <td>Mall</td>\n",
       "      <td>Health</td>\n",
       "      <td>cosmed.tw</td>\n",
       "      <td>康是美</td>\n",
       "      <td>https://shopee.tw/cosmed.tw</td>\n",
       "      <td>cosmed.sg</td>\n",
       "      <td>cosmed.tw.os</td>\n",
       "      <td>https://shopee.sg/cosmed.sg</td>\n",
       "      <td>https://shopee.com.my/cosmed.tw.os</td>\n",
       "      <td>187003011</td>\n",
       "      <td>187002992</td>\n",
       "      <td>cosmed.tw-康是美 x 蝦皮台灣跨境</td>\n",
       "      <td>https://docs.google.com/spreadsheets/d/1cDDqh3...</td>\n",
       "      <td>https://docs.google.com/spreadsheets/d/16nB_j0...</td>\n",
       "      <td>line</td>\n",
       "      <td>康是美 X 蝦皮台灣跨境</td>\n",
       "      <td>False</td>\n",
       "      <td>NaN</td>\n",
       "    </tr>\n",
       "    <tr>\n",
       "      <th>2</th>\n",
       "      <td>159834670</td>\n",
       "      <td>159836716</td>\n",
       "      <td>Mall</td>\n",
       "      <td>Books &amp; Magazines</td>\n",
       "      <td>taaze.tw</td>\n",
       "      <td>TAAZE讀冊生活網路書店</td>\n",
       "      <td>https://shopee.tw/taaze.tw</td>\n",
       "      <td>taaze.sg</td>\n",
       "      <td>taaze.os</td>\n",
       "      <td>https://shopee.sg/taaze.sg</td>\n",
       "      <td>https://shopee.com.my/taaze.os</td>\n",
       "      <td>278337713</td>\n",
       "      <td>278337628</td>\n",
       "      <td>taaze.tw-TAAZE讀冊生活網路書店 x 蝦皮台灣跨境</td>\n",
       "      <td>https://docs.google.com/spreadsheets/d/1FAGGyP...</td>\n",
       "      <td>https://docs.google.com/spreadsheets/d/1MhU3Dz...</td>\n",
       "      <td>line</td>\n",
       "      <td>讀冊 x 蝦皮跨境</td>\n",
       "      <td>True</td>\n",
       "      <td>NaN</td>\n",
       "    </tr>\n",
       "    <tr>\n",
       "      <th>3</th>\n",
       "      <td>2809614</td>\n",
       "      <td>2810896</td>\n",
       "      <td>C2C</td>\n",
       "      <td>Beauty</td>\n",
       "      <td>vulru6xu4</td>\n",
       "      <td>快樂小鋪</td>\n",
       "      <td>https://shopee.tw/vulru6xu4</td>\n",
       "      <td>vulru6xu4.sg</td>\n",
       "      <td>vulru6xu4.my</td>\n",
       "      <td>https://shopee.sg/vulru6xu4.sg</td>\n",
       "      <td>https://shopee.com.my/vulru6xu4.my</td>\n",
       "      <td>208794896</td>\n",
       "      <td>208794853</td>\n",
       "      <td>vulru6xu4-快樂小鋪 x 蝦皮台灣跨境</td>\n",
       "      <td>-</td>\n",
       "      <td>https://docs.google.com/spreadsheets/d/1AwIwfq...</td>\n",
       "      <td>line</td>\n",
       "      <td>🌟快樂小鋪🌟 X 蝦皮台灣跨境</td>\n",
       "      <td>False</td>\n",
       "      <td>NaN</td>\n",
       "    </tr>\n",
       "    <tr>\n",
       "      <th>4</th>\n",
       "      <td>9657861</td>\n",
       "      <td>9659158</td>\n",
       "      <td>Preferred</td>\n",
       "      <td>Sports &amp; Outdoors</td>\n",
       "      <td>kaijet5335</td>\n",
       "      <td>凱將體育 羽球專賣店</td>\n",
       "      <td>https://shopee.tw/kaijet5335</td>\n",
       "      <td>kaijet5335.sg</td>\n",
       "      <td>kaijet5335.my</td>\n",
       "      <td>https://shopee.sg/kaijet5335.sg</td>\n",
       "      <td>https://shopee.com.my/kaijet5335.my</td>\n",
       "      <td>201835663</td>\n",
       "      <td>201835644</td>\n",
       "      <td>kaijet5335-力揚體育 羽球專賣店 x 蝦皮台灣跨境</td>\n",
       "      <td>https://docs.google.com/spreadsheets/d/13riiLs...</td>\n",
       "      <td>https://docs.google.com/spreadsheets/d/1gKia4d...</td>\n",
       "      <td>(力揚體育) line</td>\n",
       "      <td>力揚體育 x 台灣蝦皮跨境</td>\n",
       "      <td>False</td>\n",
       "      <td>NaN</td>\n",
       "    </tr>\n",
       "  </tbody>\n",
       "</table>\n",
       "</div>"
      ],
      "text/plain": [
       "      shopid     userid mst seller type           affi cat    username  \\\n",
       "0   11527054   11528355            Mall             Beauty    s3beauty   \n",
       "1   33206500   33207884            Mall             Health   cosmed.tw   \n",
       "2  159834670  159836716            Mall  Books & Magazines    taaze.tw   \n",
       "3    2809614    2810896             C2C             Beauty   vulru6xu4   \n",
       "4    9657861    9659158       Preferred  Sports & Outdoors  kaijet5335   \n",
       "\n",
       "       shop_name                      shoplink        sg user        my user  \\\n",
       "0           小三美日    https://shopee.tw/s3beauty    s3beauty.sg    s3beauty.os   \n",
       "1            康是美   https://shopee.tw/cosmed.tw      cosmed.sg   cosmed.tw.os   \n",
       "2  TAAZE讀冊生活網路書店    https://shopee.tw/taaze.tw       taaze.sg       taaze.os   \n",
       "3           快樂小鋪   https://shopee.tw/vulru6xu4   vulru6xu4.sg   vulru6xu4.my   \n",
       "4     凱將體育 羽球專賣店  https://shopee.tw/kaijet5335  kaijet5335.sg  kaijet5335.my   \n",
       "\n",
       "                           SG link                              MY link  \\\n",
       "0    https://shopee.sg/s3beauty.sg    https://shopee.com.my/s3beauty.os   \n",
       "1      https://shopee.sg/cosmed.sg   https://shopee.com.my/cosmed.tw.os   \n",
       "2       https://shopee.sg/taaze.sg       https://shopee.com.my/taaze.os   \n",
       "3   https://shopee.sg/vulru6xu4.sg   https://shopee.com.my/vulru6xu4.my   \n",
       "4  https://shopee.sg/kaijet5335.sg  https://shopee.com.my/kaijet5335.my   \n",
       "\n",
       "   SG Shop ID  MY Shop ID                            提品表名稱  \\\n",
       "0   117069243   115506654           s3beauty-小三美日 x 蝦皮台灣跨境   \n",
       "1   187003011   187002992           cosmed.tw-康是美 x 蝦皮台灣跨境   \n",
       "2   278337713   278337628  taaze.tw-TAAZE讀冊生活網路書店 x 蝦皮台灣跨境   \n",
       "3   208794896   208794853          vulru6xu4-快樂小鋪 x 蝦皮台灣跨境   \n",
       "4   201835663   201835644   kaijet5335-力揚體育 羽球專賣店 x 蝦皮台灣跨境   \n",
       "\n",
       "                                               提品表連結  \\\n",
       "0  https://docs.google.com/spreadsheets/d/1Szrba4...   \n",
       "1  https://docs.google.com/spreadsheets/d/1cDDqh3...   \n",
       "2  https://docs.google.com/spreadsheets/d/1FAGGyP...   \n",
       "3                                                  -   \n",
       "4  https://docs.google.com/spreadsheets/d/13riiLs...   \n",
       "\n",
       "                                           new_sheet          via  \\\n",
       "0  https://docs.google.com/spreadsheets/d/1kbHZAG...           SK   \n",
       "1  https://docs.google.com/spreadsheets/d/16nB_j0...         line   \n",
       "2  https://docs.google.com/spreadsheets/d/1MhU3Dz...         line   \n",
       "3  https://docs.google.com/spreadsheets/d/1AwIwfq...         line   \n",
       "4  https://docs.google.com/spreadsheets/d/1gKia4d...  (力揚體育) line   \n",
       "\n",
       "        group_name  八月OSP完成 八月OSP notes  \n",
       "0    小三美日 X 蝦皮台灣跨境    False         NaN  \n",
       "1     康是美 X 蝦皮台灣跨境    False         NaN  \n",
       "2        讀冊 x 蝦皮跨境     True         NaN  \n",
       "3  🌟快樂小鋪🌟 X 蝦皮台灣跨境    False         NaN  \n",
       "4    力揚體育 x 台灣蝦皮跨境    False         NaN  "
      ]
     },
     "execution_count": 4,
     "metadata": {},
     "output_type": "execute_result"
    }
   ],
   "source": [
    "df = pd.read_csv(\"DATA/Intern's ST working sheet - Q3 ST seller.csv\", encoding = 'utf_8_sig', skiprows=1)\n",
    "\n",
    "df.head()"
   ]
  },
  {
   "cell_type": "code",
   "execution_count": 5,
   "metadata": {},
   "outputs": [],
   "source": [
    "\n",
    "class Event_Seller(Seller):\n",
    "    def generate_message(self):\n",
    "        msg = \\\n",
    "\"\"\"\n",
    "✨馬來西亞 8.18 + 8.25 + 9.9 大促折扣券開放報名囉✨\n",
    "只要開立指定折扣券，即有機會於曝光在蝦券頁!!\n",
    "\n",
    "⭐提報指定案型如下：\n",
    "8.18 + 8.25 >> 3折券(70% off)，低消 RM1，折扣上限 RM8 (約台幣$59)\n",
    "9.9 >> 1折券 (90% off)，低消 RM1，折扣上限 RM8 (約台幣$59)\n",
    "\n",
    "⭐單日大促總預算至多只要台幣$4,720，有實際使用張數才有算花費的唷\n",
    "\n",
    "✅曝光日期:  8/18 + 8/25-26 + 9/9  (共 4 天)\n",
    "✅提供張數: 一天 80 張\n",
    "✅報名截止日: 8/17 + 8/24 + 9/8 12:00 前\n",
    "\"\"\"\n",
    "        return msg"
   ]
  },
  {
   "cell_type": "code",
   "execution_count": 6,
   "metadata": {},
   "outputs": [],
   "source": [
    "line_users = df[df['via'].str.contains('line')]\n",
    "line_sellers:list[Seller] = df_to_sellers(line_users, line_clicker , Event_Seller)\n",
    "\n",
    "skype_users = df[df['via'].str.contains('SK')]\n",
    "skype_sellers:list[Seller] = df_to_sellers(skype_users, skype_clicker, Event_Seller)\n"
   ]
  },
  {
   "cell_type": "code",
   "execution_count": 13,
   "metadata": {},
   "outputs": [],
   "source": [
    "i=0"
   ]
  },
  {
   "cell_type": "code",
   "execution_count": 19,
   "metadata": {},
   "outputs": [
    {
     "name": "stdout",
     "output_type": "stream",
     "text": [
      "15  done\n",
      "16  done\n",
      "17  done\n"
     ]
    },
    {
     "ename": "KeyboardInterrupt",
     "evalue": "",
     "output_type": "error",
     "traceback": [
      "\u001b[1;31m---------------------------------------------------------------------------\u001b[0m",
      "\u001b[1;31mKeyboardInterrupt\u001b[0m                         Traceback (most recent call last)",
      "Cell \u001b[1;32mIn[19], line 8\u001b[0m\n\u001b[0;32m      6\u001b[0m \u001b[39mwhile\u001b[39;00m(i \u001b[39m<\u001b[39m \u001b[39mlen\u001b[39m(line_sellers)):\n\u001b[0;32m      7\u001b[0m     seller \u001b[39m=\u001b[39m line_sellers[i]\n\u001b[1;32m----> 8\u001b[0m     sleep(\u001b[39m1\u001b[39;49m)\n\u001b[0;32m      9\u001b[0m     \u001b[39mprint\u001b[39m(i, \u001b[39m\"\u001b[39m\u001b[39m done\u001b[39m\u001b[39m\"\u001b[39m)\n\u001b[0;32m     10\u001b[0m     i \u001b[39m+\u001b[39m\u001b[39m=\u001b[39m \u001b[39m1\u001b[39m\n",
      "\u001b[1;31mKeyboardInterrupt\u001b[0m: "
     ]
    }
   ],
   "source": [
    "wait_for_start()\n",
    "\n",
    "while(i < len(line_sellers)):\n",
    "    seller = line_sellers[i]\n",
    "    seller.act()\n",
    "    print(i, \" done\")\n",
    "    i += 1\n",
    "\n",
    "print(\"Line Done\")\n"
   ]
  },
  {
   "cell_type": "code",
   "execution_count": 18,
   "metadata": {},
   "outputs": [
    {
     "data": {
      "text/plain": [
       "15"
      ]
     },
     "execution_count": 18,
     "metadata": {},
     "output_type": "execute_result"
    }
   ],
   "source": [
    "i"
   ]
  },
  {
   "cell_type": "code",
   "execution_count": null,
   "metadata": {},
   "outputs": [],
   "source": [
    "\n",
    "wait_for_start()\n",
    "for seller in skype_sellers:\n",
    "    seller.act()"
   ]
  },
  {
   "cell_type": "code",
   "execution_count": null,
   "metadata": {},
   "outputs": [],
   "source": [
    "for seller in sellers:\n",
    "    seller.act()\n",
    "    print(\"=\"*30)"
   ]
  },
  {
   "cell_type": "code",
   "execution_count": null,
   "metadata": {},
   "outputs": [],
   "source": [
    "search_box_pos = (1,1)"
   ]
  },
  {
   "cell_type": "code",
   "execution_count": null,
   "metadata": {},
   "outputs": [],
   "source": [
    "search_box_pos[0]"
   ]
  },
  {
   "cell_type": "code",
   "execution_count": null,
   "metadata": {},
   "outputs": [],
   "source": [
    "def www(f, s):\n",
    "    print(f, s)"
   ]
  },
  {
   "cell_type": "code",
   "execution_count": null,
   "metadata": {},
   "outputs": [],
   "source": [
    "www(*search_box_pos)"
   ]
  },
  {
   "cell_type": "code",
   "execution_count": null,
   "metadata": {},
   "outputs": [],
   "source": []
  }
 ],
 "metadata": {
  "kernelspec": {
   "display_name": "Python 3",
   "language": "python",
   "name": "python3"
  },
  "language_info": {
   "codemirror_mode": {
    "name": "ipython",
    "version": 3
   },
   "file_extension": ".py",
   "mimetype": "text/x-python",
   "name": "python",
   "nbconvert_exporter": "python",
   "pygments_lexer": "ipython3",
   "version": "3.11.4"
  },
  "orig_nbformat": 4
 },
 "nbformat": 4,
 "nbformat_minor": 2
}
