{
 "cells": [
  {
   "cell_type": "code",
   "execution_count": 51,
   "metadata": {},
   "outputs": [
    {
     "name": "stdout",
     "output_type": "stream",
     "text": [
      "The autoreload extension is already loaded. To reload it, use:\n",
      "  %reload_ext autoreload\n"
     ]
    }
   ],
   "source": [
    "%load_ext autoreload\n",
    "%autoreload 2"
   ]
  },
  {
   "cell_type": "code",
   "execution_count": 52,
   "metadata": {},
   "outputs": [],
   "source": [
    "import autosender.Clicker as ck\n",
    "from autosender.Clicker import wait_for_start, type_in\n",
    "import autosender.coordination\n",
    "from autosender.Seller import Seller, df_to_sellers\n",
    "import pandas as pd\n",
    "import gspread\n",
    "from google.oauth2.service_account import Credentials"
   ]
  },
  {
   "cell_type": "code",
   "execution_count": 37,
   "metadata": {},
   "outputs": [
    {
     "name": "stdout",
     "output_type": "stream",
     "text": [
      "Test clicker created\n",
      "Search box is set at (100, 400)\n",
      "Type box is set at (500, 900)\n",
      "Send button is set at (1200, 900)\n"
     ]
    }
   ],
   "source": [
    "test_clicker = ck.TestClicker().calibrate(autosender.coordination.test_coordinate)\n",
    "line_clicker = ck.LineClicker().calibrate(autosender.coordination.line_coordinate)\n",
    "skype_clicker = ck.SkypeClicker().calibrate(autosender.coordination.skype_coordinate)"
   ]
  },
  {
   "cell_type": "code",
   "execution_count": 38,
   "metadata": {},
   "outputs": [
    {
     "name": "stdout",
     "output_type": "stream",
     "text": [
      "Unexpected exception formatting exception. Falling back to standard exception\n"
     ]
    },
    {
     "name": "stderr",
     "output_type": "stream",
     "text": [
      "Traceback (most recent call last):\n",
      "  File \"c:\\Users\\eloise.chou\\Anaconda3\\envs\\anaconda_py311\\Lib\\site-packages\\IPython\\core\\interactiveshell.py\", line 3505, in run_code\n",
      "    exec(code_obj, self.user_global_ns, self.user_ns)\n",
      "  File \"C:\\Users\\eloise.chou\\AppData\\Local\\Temp\\ipykernel_2928\\1511768059.py\", line 1, in <module>\n",
      "    wait_for_start()\n",
      "  File \"c:\\Python\\Shopee\\auto-line-sender\\autosender\\Clicker.py\", line 247, in wait_for_start\n",
      "    keyboard.wait(\"f12\")\n",
      "  File \"c:\\Users\\eloise.chou\\Anaconda3\\envs\\anaconda_py311\\Lib\\site-packages\\keyboard\\__init__.py\", line 882, in wait\n",
      "    lock.wait()\n",
      "  File \"c:\\Users\\eloise.chou\\Anaconda3\\envs\\anaconda_py311\\Lib\\site-packages\\keyboard\\__init__.py\", line 117, in wait\n",
      "    if _UninterruptibleEvent.wait(self, 0.5):\n",
      "       ^^^^^^^^^^^^^^^^^^^^^^^^^^^^^^^^^^^^^\n",
      "  File \"c:\\Users\\eloise.chou\\Anaconda3\\envs\\anaconda_py311\\Lib\\threading.py\", line 622, in wait\n",
      "    signaled = self._cond.wait(timeout)\n",
      "               ^^^^^^^^^^^^^^^^^^^^^^^^\n",
      "  File \"c:\\Users\\eloise.chou\\Anaconda3\\envs\\anaconda_py311\\Lib\\threading.py\", line 324, in wait\n",
      "    gotit = waiter.acquire(True, timeout)\n",
      "            ^^^^^^^^^^^^^^^^^^^^^^^^^^^^^\n",
      "KeyboardInterrupt\n",
      "\n",
      "During handling of the above exception, another exception occurred:\n",
      "\n",
      "Traceback (most recent call last):\n",
      "  File \"c:\\Users\\eloise.chou\\Anaconda3\\envs\\anaconda_py311\\Lib\\site-packages\\IPython\\core\\interactiveshell.py\", line 2102, in showtraceback\n",
      "    stb = self.InteractiveTB.structured_traceback(\n",
      "          ^^^^^^^^^^^^^^^^^^^^^^^^^^^^^^^^^^^^^^^^\n",
      "  File \"c:\\Users\\eloise.chou\\Anaconda3\\envs\\anaconda_py311\\Lib\\site-packages\\IPython\\core\\ultratb.py\", line 1310, in structured_traceback\n",
      "    return FormattedTB.structured_traceback(\n",
      "           ^^^^^^^^^^^^^^^^^^^^^^^^^^^^^^^^^\n",
      "  File \"c:\\Users\\eloise.chou\\Anaconda3\\envs\\anaconda_py311\\Lib\\site-packages\\IPython\\core\\ultratb.py\", line 1199, in structured_traceback\n",
      "    return VerboseTB.structured_traceback(\n",
      "           ^^^^^^^^^^^^^^^^^^^^^^^^^^^^^^^\n",
      "  File \"c:\\Users\\eloise.chou\\Anaconda3\\envs\\anaconda_py311\\Lib\\site-packages\\IPython\\core\\ultratb.py\", line 1052, in structured_traceback\n",
      "    formatted_exception = self.format_exception_as_a_whole(etype, evalue, etb, number_of_lines_of_context,\n",
      "                          ^^^^^^^^^^^^^^^^^^^^^^^^^^^^^^^^^^^^^^^^^^^^^^^^^^^^^^^^^^^^^^^^^^^^^^^^^^^^^^^^\n",
      "  File \"c:\\Users\\eloise.chou\\Anaconda3\\envs\\anaconda_py311\\Lib\\site-packages\\IPython\\core\\ultratb.py\", line 978, in format_exception_as_a_whole\n",
      "    frames.append(self.format_record(record))\n",
      "                  ^^^^^^^^^^^^^^^^^^^^^^^^^^\n",
      "  File \"c:\\Users\\eloise.chou\\Anaconda3\\envs\\anaconda_py311\\Lib\\site-packages\\IPython\\core\\ultratb.py\", line 878, in format_record\n",
      "    frame_info.lines, Colors, self.has_colors, lvals\n",
      "    ^^^^^^^^^^^^^^^^\n",
      "  File \"c:\\Users\\eloise.chou\\Anaconda3\\envs\\anaconda_py311\\Lib\\site-packages\\IPython\\core\\ultratb.py\", line 712, in lines\n",
      "    return self._sd.lines\n",
      "           ^^^^^^^^^^^^^^\n",
      "  File \"c:\\Users\\eloise.chou\\Anaconda3\\envs\\anaconda_py311\\Lib\\site-packages\\stack_data\\utils.py\", line 145, in cached_property_wrapper\n",
      "    value = obj.__dict__[self.func.__name__] = self.func(obj)\n",
      "                                               ^^^^^^^^^^^^^^\n",
      "  File \"c:\\Users\\eloise.chou\\Anaconda3\\envs\\anaconda_py311\\Lib\\site-packages\\stack_data\\core.py\", line 698, in lines\n",
      "    pieces = self.included_pieces\n",
      "             ^^^^^^^^^^^^^^^^^^^^\n",
      "  File \"c:\\Users\\eloise.chou\\Anaconda3\\envs\\anaconda_py311\\Lib\\site-packages\\stack_data\\utils.py\", line 145, in cached_property_wrapper\n",
      "    value = obj.__dict__[self.func.__name__] = self.func(obj)\n",
      "                                               ^^^^^^^^^^^^^^\n",
      "  File \"c:\\Users\\eloise.chou\\Anaconda3\\envs\\anaconda_py311\\Lib\\site-packages\\stack_data\\core.py\", line 649, in included_pieces\n",
      "    pos = scope_pieces.index(self.executing_piece)\n",
      "                             ^^^^^^^^^^^^^^^^^^^^\n",
      "  File \"c:\\Users\\eloise.chou\\Anaconda3\\envs\\anaconda_py311\\Lib\\site-packages\\stack_data\\utils.py\", line 145, in cached_property_wrapper\n",
      "    value = obj.__dict__[self.func.__name__] = self.func(obj)\n",
      "                                               ^^^^^^^^^^^^^^\n",
      "  File \"c:\\Users\\eloise.chou\\Anaconda3\\envs\\anaconda_py311\\Lib\\site-packages\\stack_data\\core.py\", line 628, in executing_piece\n",
      "    return only(\n",
      "           ^^^^^\n",
      "  File \"c:\\Users\\eloise.chou\\Anaconda3\\envs\\anaconda_py311\\Lib\\site-packages\\executing\\executing.py\", line 164, in only\n",
      "    raise NotOneValueFound('Expected one value, found 0')\n",
      "executing.executing.NotOneValueFound: Expected one value, found 0\n"
     ]
    }
   ],
   "source": [
    "wait_for_start()\n",
    "line_clicker.check()"
   ]
  },
  {
   "cell_type": "code",
   "execution_count": 17,
   "metadata": {},
   "outputs": [],
   "source": [
    "wait_for_start()\n",
    "skype_clicker.check()"
   ]
  },
  {
   "cell_type": "code",
   "execution_count": 39,
   "metadata": {},
   "outputs": [],
   "source": [
    "clicker = line_clicker\n",
    "\n",
    "clicker = skype_clicker"
   ]
  },
  {
   "cell_type": "code",
   "execution_count": 41,
   "metadata": {},
   "outputs": [],
   "source": [
    "class Event_Seller(Seller):\n",
    "    def generate_message(self):\n",
    "        msg = \\\n",
    "\"\"\"\n",
    "✨馬來西亞 8.18 + 8.25 + 9.9 大促折扣券開放報名囉✨\n",
    "只要開立指定折扣券，即有機會於曝光在蝦券頁!!\n",
    "\n",
    "⭐提報指定案型如下：\n",
    "8.18 + 8.25 >> 3折券(70% off)，低消 RM1，折扣上限 RM8 (約台幣$59)\n",
    "9.9 >> 1折券 (90% off)，低消 RM1，折扣上限 RM8 (約台幣$59)\n",
    "\n",
    "⭐單日大促總預算至多只要台幣$4,720，有實際使用張數才有算花費的唷\n",
    "\n",
    "✅曝光日期:  8/18 + 8/25-26 + 9/9  (共 4 天)\n",
    "✅提供張數: 一天 80 張\n",
    "✅報名截止日: 8/17 + 8/24 + 9/8 12:00 前\n",
    "\"\"\"\n",
    "        return msg"
   ]
  },
  {
   "cell_type": "code",
   "execution_count": 54,
   "metadata": {},
   "outputs": [],
   "source": [
    "scope = ['https://www.googleapis.com/auth/spreadsheets']\n",
    "\n",
    "creds = Credentials.from_service_account_file(\"DATA/amazing-badge-373002-f2cb8a5301d3.json\", scopes=scope)\n",
    "\n",
    "gs = gspread.authorize(creds)\n",
    "\n",
    "sheet = gs.open_by_url('https://docs.google.com/spreadsheets/d/1LG-5g4cR-zGwkk6eyK1P9y5npHQFzbk9Yz31IKU8jz4/edit?pli=1#gid=1073158589')\n",
    "# spreadsheet = gs.open_by_key('1-eQcxMNaoIF0g7JSJhHpta1WGsHPVR8wMPJ3Vq2U6mQ')\n",
    "\n",
    "worksheet = sheet.worksheet('Q3 ST seller')\n",
    "sellers = pd.DataFrame(worksheet.get_all_records())"
   ]
  },
  {
   "cell_type": "code",
   "execution_count": 42,
   "metadata": {},
   "outputs": [],
   "source": [
    "line_users = Sellers[Sellers['via'].str.contains('line')]\n",
    "line_sellers:list[Seller] = df_to_sellers(line_users, line_clicker , Event_Seller)\n",
    "\n",
    "skype_users = Sellers[Sellers['via'].str.contains('SK')]\n",
    "skype_sellers:list[Seller] = df_to_sellers(skype_users, skype_clicker, Event_Seller)"
   ]
  },
  {
   "cell_type": "code",
   "execution_count": 49,
   "metadata": {},
   "outputs": [],
   "source": [
    "i=0"
   ]
  },
  {
   "cell_type": "code",
   "execution_count": null,
   "metadata": {},
   "outputs": [],
   "source": [
    "wait_for_start()\n",
    "\n",
    "while(i < len(line_sellers)):\n",
    "    seller = line_sellers[i]\n",
    "    seller.act()\n",
    "    print(i, \" done\")\n",
    "    i += 1\n",
    "\n",
    "print(\"Line Done\")"
   ]
  },
  {
   "cell_type": "code",
   "execution_count": 47,
   "metadata": {},
   "outputs": [
    {
     "name": "stdout",
     "output_type": "stream",
     "text": [
      "34\n"
     ]
    }
   ],
   "source": [
    "print(i)"
   ]
  },
  {
   "cell_type": "code",
   "execution_count": 18,
   "metadata": {},
   "outputs": [],
   "source": [
    "i=0"
   ]
  },
  {
   "cell_type": "code",
   "execution_count": 19,
   "metadata": {},
   "outputs": [
    {
     "name": "stdout",
     "output_type": "stream",
     "text": [
      "0  done\n",
      "1  done\n",
      "2  done\n",
      "3  done\n",
      "Skype Done\n"
     ]
    }
   ],
   "source": [
    "wait_for_start()\n",
    "\n",
    "while(i < len(skype_sellers)):\n",
    "    seller = skype_sellers[i]\n",
    "    seller.act()\n",
    "    print(i, \" done\")\n",
    "    i += 1\n",
    "\n",
    "print(\"Skype Done\")"
   ]
  },
  {
   "cell_type": "code",
   "execution_count": null,
   "metadata": {},
   "outputs": [],
   "source": []
  }
 ],
 "metadata": {
  "kernelspec": {
   "display_name": "anaconda_py311",
   "language": "python",
   "name": "python3"
  },
  "language_info": {
   "codemirror_mode": {
    "name": "ipython",
    "version": 3
   },
   "file_extension": ".py",
   "mimetype": "text/x-python",
   "name": "python",
   "nbconvert_exporter": "python",
   "pygments_lexer": "ipython3",
   "version": "3.11.4"
  },
  "orig_nbformat": 4
 },
 "nbformat": 4,
 "nbformat_minor": 2
}
