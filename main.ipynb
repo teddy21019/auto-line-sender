{
 "cells": [
  {
   "cell_type": "code",
   "execution_count": null,
   "metadata": {},
   "outputs": [],
   "source": [
    "%load_ext autoreload\n",
    "%autoreload 2"
   ]
  },
  {
   "cell_type": "code",
   "execution_count": null,
   "metadata": {},
   "outputs": [],
   "source": [
    "import autosender.Clicker as ck\n",
    "from autosender.Clicker import wait_for_start, type_in\n",
    "import autosender.coordination\n",
    "from autosender.Seller import Seller, Event_Seller, df_to_sellers\n",
    "import pandas as pd"
   ]
  },
  {
   "cell_type": "code",
   "execution_count": null,
   "metadata": {},
   "outputs": [],
   "source": [
    "test_clicker = ck.TestClicker().calibrate(autosender.coordination.test_coordinate)\n",
    "line_clicker = ck.LineClicker().calibrate(autosender.coordination.line_coordinate)\n",
    "skype_clicker = ck.SkypeClicker().calibrate(autosender.coordination.skype_coordinate)"
   ]
  },
  {
   "cell_type": "code",
   "execution_count": null,
   "metadata": {},
   "outputs": [],
   "source": [
    "wait_for_start()\n",
    "line_clicker.check()"
   ]
  },
  {
   "cell_type": "code",
   "execution_count": null,
   "metadata": {},
   "outputs": [],
   "source": [
    "wait_for_start()\n",
    "skype_clicker.check()"
   ]
  },
  {
   "cell_type": "code",
   "execution_count": null,
   "metadata": {},
   "outputs": [],
   "source": [
    "# clicker = line_clicker\n",
    "\n",
    "# clicker = skype_clicker"
   ]
  },
  {
   "cell_type": "code",
   "execution_count": null,
   "metadata": {},
   "outputs": [],
   "source": [
    "df = pd.read_csv(\"DATA/Intern's ST working sheet - Q3 ST seller.csv\", encoding = 'utf_8_sig', skiprows=1)\n",
    "\n",
    "df.head()"
   ]
  },
  {
   "cell_type": "code",
   "execution_count": null,
   "metadata": {},
   "outputs": [],
   "source": [
    "class Event_Seller(Seller):\n",
    "    def generate_message(self):\n",
    "        msg = \\\n",
    "\"\"\"\n",
    "✨馬來西亞 8.18 + 8.25 + 9.9 大促折扣券開放報名囉✨\n",
    "只要開立指定折扣券，即有機會於曝光在蝦券頁!!\n",
    "\n",
    "⭐提報指定案型如下：\n",
    "8.18 + 8.25 >> 3折券(70% off)，低消 RM1，折扣上限 RM8 (約台幣$59)\n",
    "9.9 >> 1折券 (90% off)，低消 RM1，折扣上限 RM8 (約台幣$59)\n",
    "\n",
    "⭐單日大促總預算至多只要台幣$4,720，有實際使用張數才有算花費的唷\n",
    "\n",
    "✅曝光日期:  8/18 + 8/25-26 + 9/9  (共 4 天)\n",
    "✅提供張數: 一天 80 張\n",
    "✅報名截止日: 8/17 + 8/24 + 9/8 12:00 前\n",
    "\"\"\"\n",
    "        return msg"
   ]
  },
  {
   "cell_type": "code",
   "execution_count": null,
   "metadata": {},
   "outputs": [],
   "source": [
    "line_users = df[df['via'].str.contains('line')]\n",
    "line_sellers:list[Seller] = df_to_sellers(line_users,line_clicker , Event_Seller)\n",
    "\n",
    "skype_users = df[df['via'].str.contains('SK')]\n",
    "skype_sellers:list[Seller] = df_to_sellers(skype_users, skype_clicker, Event_Seller)"
   ]
  },
  {
   "cell_type": "code",
   "execution_count": null,
   "metadata": {},
   "outputs": [],
   "source": [
    "wait_for_start()\n",
    "for seller in line_sellers:\n",
    "    seller.act()\n",
    "print(\"Line Done\")"
   ]
  },
  {
   "cell_type": "code",
   "execution_count": null,
   "metadata": {},
   "outputs": [],
   "source": [
    "wait_for_start()\n",
    "for seller in skype_sellers:\n",
    "    seller.act()\n",
    "print(\"Skype Done\")"
   ]
  }
 ],
 "metadata": {
  "language_info": {
   "name": "python"
  },
  "orig_nbformat": 4
 },
 "nbformat": 4,
 "nbformat_minor": 2
}
