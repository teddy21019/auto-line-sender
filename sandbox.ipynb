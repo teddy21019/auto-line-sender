{
 "cells": [
  {
   "cell_type": "code",
   "execution_count": 1,
   "metadata": {},
   "outputs": [],
   "source": [
    "%load_ext autoreload\n",
    "%autoreload 2"
   ]
  },
  {
   "cell_type": "code",
   "execution_count": 38,
   "metadata": {},
   "outputs": [
    {
     "name": "stdout",
     "output_type": "stream",
     "text": [
      "{'line': {'search': (203, 415), 'type': (532, 928), 'send': (1203, 935)},\n",
      " 'skype': {'search': (336, 735), 'type': (935, 839), 'send': (1938, 836)},\n",
      " 'shopee': {'search': (392, 392), 'type': (524, 945), 'send': (1641, 839)},\n",
      " 'test': {'search': (100, 400), 'type': (500, 900), 'send': (1200, 900)}}\n",
      "Test clicker created\n",
      "Search box is set at (100, 400)\n",
      "Type box is set at (500, 900)\n",
      "Send button is set at (1200, 900)\n"
     ]
    }
   ],
   "source": [
    "from autosender.Clicker import ClickerFactory\n",
    "from autosender.Seller import Seller\n",
    "from autosender.coordination import coordinate_info\n",
    "\n",
    "from pprint import pprint\n",
    "\n",
    "pp.pprint(coordinate_info)\n",
    "\n",
    "clicker_factory = ClickerFactory(coordinate_info)\n",
    "## Fake clicker without using pyautogui. Clicking and typing is represented by printing.\n",
    "\n",
    "test_clicker = clicker_factory.create_clicker(\"test\") # can be \"line\", \"skype\", \"shopee\"..."
   ]
  },
  {
   "cell_type": "code",
   "execution_count": 20,
   "metadata": {},
   "outputs": [
    {
     "name": "stdout",
     "output_type": "stream",
     "text": [
      "Click the search box at (329, 583)\n",
      "Type in '蝦皮 x 阿威小舖'\n",
      "Click the typing area at (833, 931)\n",
      "Type 請前往這裡：www.w.w.\n",
      "Click send button at (1203, 934)\n"
     ]
    }
   ],
   "source": [
    "# simulate clicking and typing by printing\n",
    "test_clicker.search(\"蝦皮 x 阿威小舖\")\n",
    "test_clicker.type(\"請前往這裡：www.w.w.\")\n",
    "test_clicker.send()"
   ]
  },
  {
   "cell_type": "code",
   "execution_count": 25,
   "metadata": {},
   "outputs": [],
   "source": [
    "# for each seller, create a \"seller\" object,\n",
    "# and assign the corresponding clicker to it (can be line-clicker, skype-clicker...)\n",
    "seller = Seller(id = \"325423\", group_name= \"蝦皮 x 阿威小舖\", url=\"www.google.com\",\n",
    "                clicker= test_clicker)"
   ]
  },
  {
   "cell_type": "code",
   "execution_count": 26,
   "metadata": {},
   "outputs": [
    {
     "name": "stdout",
     "output_type": "stream",
     "text": [
      "Click the search box at (100, 400)\n",
      "Type in '蝦皮 x 阿威小舖'\n",
      "Click the typing area at (500, 900)\n",
      "Type 親愛的賣家您好，以下是連結：www.google.com 。請協助填寫，謝謝！\n",
      "Click send button at (1200, 900)\n"
     ]
    }
   ],
   "source": [
    "seller.act()"
   ]
  },
  {
   "cell_type": "code",
   "execution_count": null,
   "metadata": {},
   "outputs": [],
   "source": []
  }
 ],
 "metadata": {
  "kernelspec": {
   "display_name": "autoclick",
   "language": "python",
   "name": "python3"
  },
  "language_info": {
   "codemirror_mode": {
    "name": "ipython",
    "version": 3
   },
   "file_extension": ".py",
   "mimetype": "text/x-python",
   "name": "python",
   "nbconvert_exporter": "python",
   "pygments_lexer": "ipython3",
   "version": "3.11.4"
  },
  "orig_nbformat": 4
 },
 "nbformat": 4,
 "nbformat_minor": 2
}
